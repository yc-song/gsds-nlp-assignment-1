{
 "cells": [
  {
   "cell_type": "code",
   "execution_count": null,
   "metadata": {},
   "outputs": [],
   "source": [
    "import numpy as np\n",
    "import nltk\n",
    "from nltk.tokenize import word_tokenize\n",
    "nltk.download('punkt')\n"
   ]
  },
  {
   "cell_type": "code",
   "execution_count": null,
   "metadata": {},
   "outputs": [],
   "source": [
    "corpus=[\"I AM SAM\",\n",
    "\"I LIKE SAM I AM\",\n",
    "\"I LIKE GREEN EGGS AND HAM\"]"
   ]
  },
  {
   "cell_type": "markdown",
   "metadata": {},
   "source": [
    "### Problem 1 (a) \n",
    "Create a term document matrix using simple word counts (number of times a word appears in a document) for all the documents"
   ]
  },
  {
   "cell_type": "code",
   "execution_count": null,
   "metadata": {},
   "outputs": [],
   "source": [
    "def simple_word_counts(courpus:list[str])->np.ndarray:\n",
    "    \"\"\" Create a term-document matrix using simple word counts\n",
    "\n",
    "    Arguments:\n",
    "    corpus-- list of sentences in the corpus\n",
    "\n",
    "    Return:\n",
    "    term_doc_matrix -- term-document matrix where each element is the number of times a word appears in a document. The order of words DOES NOT matter.\n",
    "    \"\"\"\n",
    "    term_doc_matrix=np.empty([3,8])\n",
    "    #### YOUR CODE HERE (~ 6 lines) ####\n",
    "\n",
    "\n",
    "    #### YOUR CODE HERE ####\n",
    "    return term_doc_matrix"
   ]
  },
  {
   "cell_type": "code",
   "execution_count": null,
   "metadata": {},
   "outputs": [],
   "source": [
    "simple_word_counts(corpus)"
   ]
  },
  {
   "cell_type": "markdown",
   "metadata": {},
   "source": [
    "### Problem 1 (b)\n",
    "Using the vector space model and cosine similarity find the closest document to the user query ”I LIKE EGGS”"
   ]
  },
  {
   "cell_type": "code",
   "execution_count": null,
   "metadata": {},
   "outputs": [],
   "source": [
    "def cos_distance(a:np.ndarray, b:np.ndarray)->float:\n",
    "    return 1 - sp.spatial.distance.cosine(a, b)\n",
    "\n",
    "def find_the_closest_document(corpus: list[str], query: str)->str:\n",
    "    \"\"\" Find the closest document with query from corpus\n",
    "\n",
    "    Arguments:\n",
    "    corpus-- list of sentences in the corpus\n",
    "    query-- a string to compute cosine similarity with\n",
    "\n",
    "    Return:\n",
    "    closest_document --the string in the corpus which is the closest to the query\n",
    "    \"\"\"\n",
    "    closest_document=str()\n",
    "    #### YOUR CODE HERE ####\n",
    "    #### make use of cos_distance function above!\n",
    "\n",
    "    return closest_document"
   ]
  },
  {
   "cell_type": "code",
   "execution_count": null,
   "metadata": {},
   "outputs": [],
   "source": [
    "query=\"I LIKE EGGS\"\n",
    "find_the_closest_document(corpus, query)"
   ]
  },
  {
   "cell_type": "markdown",
   "metadata": {},
   "source": [
    "### Problem 2 (a) \n",
    "Now instead of using the raw counts, use TF-IDF for each entry in the term-document matrix. Using the vector space model and cosine similarity find the closest document to the user query “I LIKE EGGS” for the new index"
   ]
  },
  {
   "cell_type": "code",
   "execution_count": null,
   "metadata": {},
   "outputs": [],
   "source": [
    "def find_the_closest_document_tfidf(corpus: list[str], query: str)->str:\n",
    "    \"\"\" Find the closest document with query from corpus using tf-idf\n",
    "\n",
    "    Arguments:\n",
    "    corpus-- list of sentences in the corpus\n",
    "    query-- a string to compute cosine similarity with\n",
    "\n",
    "    Return:\n",
    "    closest_document --the string in the corpus which is the closest to the query\n",
    "    \"\"\"\n",
    "    closest_document=str()\n",
    "    #### YOUR CODE HERE ####\n",
    "    #### NOTE the base of log is 2, not 10 or e\n",
    "\n",
    "    return closest_document\n",
    "\n"
   ]
  },
  {
   "cell_type": "markdown",
   "metadata": {},
   "source": [
    "### Problem 2 (c)\n",
    "nstead of using cosine similarity we could also use the L2 distance. Which similarity function (L2 or cosine) would work better here?"
   ]
  },
  {
   "cell_type": "code",
   "execution_count": null,
   "metadata": {},
   "outputs": [],
   "source": [
    "def find_the_closest_document_L2(corpus: list[str], query: str)->str:\n",
    "    \"\"\" Find the closest document with query from corpus using L2 distance\n",
    "\n",
    "    Arguments:\n",
    "    corpus-- list of sentences in the corpus\n",
    "    query-- a string to compute cosine similarity with\n",
    "\n",
    "    Return:\n",
    "    closest_document --the string in the corpus which is the closest to the query\n",
    "    \"\"\"\n",
    "    closest_document=str()\n",
    "\n",
    "    #### YOUR CODE HERE ####\n",
    "    \n",
    "    return closest_document\n",
    "\n",
    "    \n"
   ]
  }
 ],
 "metadata": {
  "kernelspec": {
   "display_name": "Python 3.9.12 ('base': conda)",
   "language": "python",
   "name": "python3"
  },
  "language_info": {
   "codemirror_mode": {
    "name": "ipython",
    "version": 3
   },
   "file_extension": ".py",
   "mimetype": "text/x-python",
   "name": "python",
   "nbconvert_exporter": "python",
   "pygments_lexer": "ipython3",
   "version": "3.9.12"
  },
  "orig_nbformat": 4,
  "vscode": {
   "interpreter": {
    "hash": "cae7ac32d8cff5c1e4cf23dee71608b7fd2b7ba28595b4ee9b28a0ddab2d1bf8"
   }
  }
 },
 "nbformat": 4,
 "nbformat_minor": 2
}
